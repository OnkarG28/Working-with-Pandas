{
 "cells": [
  {
   "cell_type": "code",
   "execution_count": 2,
   "metadata": {},
   "outputs": [],
   "source": [
    "%matplotlib inline\n",
    "import pandas as pd"
   ]
  },
  {
   "cell_type": "code",
   "execution_count": 3,
   "metadata": {},
   "outputs": [
    {
     "data": {
      "text/html": [
       "<div>\n",
       "<style scoped>\n",
       "    .dataframe tbody tr th:only-of-type {\n",
       "        vertical-align: middle;\n",
       "    }\n",
       "\n",
       "    .dataframe tbody tr th {\n",
       "        vertical-align: top;\n",
       "    }\n",
       "\n",
       "    .dataframe thead th {\n",
       "        text-align: right;\n",
       "    }\n",
       "</style>\n",
       "<table border=\"1\" class=\"dataframe\">\n",
       "  <thead>\n",
       "    <tr style=\"text-align: right;\">\n",
       "      <th></th>\n",
       "      <th>title</th>\n",
       "      <th>year</th>\n",
       "      <th>name</th>\n",
       "      <th>type</th>\n",
       "      <th>character</th>\n",
       "      <th>n</th>\n",
       "    </tr>\n",
       "  </thead>\n",
       "  <tbody>\n",
       "    <tr>\n",
       "      <th>0</th>\n",
       "      <td>Closet Monster</td>\n",
       "      <td>2015</td>\n",
       "      <td>Buffy #1</td>\n",
       "      <td>actor</td>\n",
       "      <td>Buffy 4</td>\n",
       "      <td>NaN</td>\n",
       "    </tr>\n",
       "    <tr>\n",
       "      <th>1</th>\n",
       "      <td>Suuri illusioni</td>\n",
       "      <td>1985</td>\n",
       "      <td>Homo $</td>\n",
       "      <td>actor</td>\n",
       "      <td>Guests</td>\n",
       "      <td>22.0</td>\n",
       "    </tr>\n",
       "    <tr>\n",
       "      <th>2</th>\n",
       "      <td>Battle of the Sexes</td>\n",
       "      <td>2017</td>\n",
       "      <td>$hutter</td>\n",
       "      <td>actor</td>\n",
       "      <td>Bobby Riggs Fan</td>\n",
       "      <td>10.0</td>\n",
       "    </tr>\n",
       "    <tr>\n",
       "      <th>3</th>\n",
       "      <td>Secret in Their Eyes</td>\n",
       "      <td>2015</td>\n",
       "      <td>$hutter</td>\n",
       "      <td>actor</td>\n",
       "      <td>2002 Dodger Fan</td>\n",
       "      <td>NaN</td>\n",
       "    </tr>\n",
       "    <tr>\n",
       "      <th>4</th>\n",
       "      <td>Steve Jobs</td>\n",
       "      <td>2015</td>\n",
       "      <td>$hutter</td>\n",
       "      <td>actor</td>\n",
       "      <td>1988 Opera House Patron</td>\n",
       "      <td>NaN</td>\n",
       "    </tr>\n",
       "  </tbody>\n",
       "</table>\n",
       "</div>"
      ],
      "text/plain": [
       "                  title  year      name   type                character     n\n",
       "0        Closet Monster  2015  Buffy #1  actor                  Buffy 4   NaN\n",
       "1       Suuri illusioni  1985    Homo $  actor                   Guests  22.0\n",
       "2   Battle of the Sexes  2017   $hutter  actor          Bobby Riggs Fan  10.0\n",
       "3  Secret in Their Eyes  2015   $hutter  actor          2002 Dodger Fan   NaN\n",
       "4            Steve Jobs  2015   $hutter  actor  1988 Opera House Patron   NaN"
      ]
     },
     "execution_count": 3,
     "metadata": {},
     "output_type": "execute_result"
    }
   ],
   "source": [
    "cast = pd.read_csv(\"C:/Users/onkar/Downloads/cast.csv\")\n",
    "cast.head()"
   ]
  },
  {
   "cell_type": "code",
   "execution_count": 4,
   "metadata": {},
   "outputs": [
    {
     "data": {
      "text/html": [
       "<div>\n",
       "<style scoped>\n",
       "    .dataframe tbody tr th:only-of-type {\n",
       "        vertical-align: middle;\n",
       "    }\n",
       "\n",
       "    .dataframe tbody tr th {\n",
       "        vertical-align: top;\n",
       "    }\n",
       "\n",
       "    .dataframe thead th {\n",
       "        text-align: right;\n",
       "    }\n",
       "</style>\n",
       "<table border=\"1\" class=\"dataframe\">\n",
       "  <thead>\n",
       "    <tr style=\"text-align: right;\">\n",
       "      <th></th>\n",
       "      <th>title</th>\n",
       "      <th>year</th>\n",
       "    </tr>\n",
       "  </thead>\n",
       "  <tbody>\n",
       "    <tr>\n",
       "      <th>0</th>\n",
       "      <td>The Rising Son</td>\n",
       "      <td>1990</td>\n",
       "    </tr>\n",
       "    <tr>\n",
       "      <th>1</th>\n",
       "      <td>The Thousand Plane Raid</td>\n",
       "      <td>1969</td>\n",
       "    </tr>\n",
       "    <tr>\n",
       "      <th>2</th>\n",
       "      <td>Crucea de piatra</td>\n",
       "      <td>1993</td>\n",
       "    </tr>\n",
       "    <tr>\n",
       "      <th>3</th>\n",
       "      <td>Country</td>\n",
       "      <td>2000</td>\n",
       "    </tr>\n",
       "    <tr>\n",
       "      <th>4</th>\n",
       "      <td>Gaiking II</td>\n",
       "      <td>2011</td>\n",
       "    </tr>\n",
       "  </tbody>\n",
       "</table>\n",
       "</div>"
      ],
      "text/plain": [
       "                     title  year\n",
       "0           The Rising Son  1990\n",
       "1  The Thousand Plane Raid  1969\n",
       "2         Crucea de piatra  1993\n",
       "3                  Country  2000\n",
       "4               Gaiking II  2011"
      ]
     },
     "execution_count": 4,
     "metadata": {},
     "output_type": "execute_result"
    }
   ],
   "source": [
    "titles = pd.read_csv(\"C:/Users/onkar/Downloads/titles.csv\")\n",
    "titles.head()"
   ]
  },
  {
   "cell_type": "markdown",
   "metadata": {
    "collapsed": true
   },
   "source": [
    "### How many movies are listed in the titles dataframe?"
   ]
  },
  {
   "cell_type": "code",
   "execution_count": 5,
   "metadata": {},
   "outputs": [
    {
     "name": "stdout",
     "output_type": "stream",
     "text": [
      "Number of movies listed in Data Frame 230621\n"
     ]
    }
   ],
   "source": [
    "print(\"Number of movies listed in Data Frame\", titles.shape[0])"
   ]
  },
  {
   "cell_type": "code",
   "execution_count": null,
   "metadata": {
    "collapsed": true
   },
   "outputs": [],
   "source": []
  },
  {
   "cell_type": "markdown",
   "metadata": {
    "collapsed": true
   },
   "source": [
    "### What are the earliest two films listed in the titles dataframe?"
   ]
  },
  {
   "cell_type": "code",
   "execution_count": 86,
   "metadata": {},
   "outputs": [],
   "source": [
    "s_titles = titles.sort_values('year', ascending=True)\n",
    "s_2 = s_titles.head(2)"
   ]
  },
  {
   "cell_type": "code",
   "execution_count": 87,
   "metadata": {},
   "outputs": [
    {
     "name": "stdout",
     "output_type": "stream",
     "text": [
      "The earliest two films in titles dataframe are -                       title  year\n",
      "176477          Miss Jerry  1894\n",
      "213694  The Startled Lover  1898\n"
     ]
    }
   ],
   "source": [
    "print(\"The earliest two films in titles dataframe are - \", s_2)"
   ]
  },
  {
   "cell_type": "markdown",
   "metadata": {
    "collapsed": true
   },
   "source": [
    "### How many movies have the title \"Hamlet\"?"
   ]
  },
  {
   "cell_type": "code",
   "execution_count": 24,
   "metadata": {},
   "outputs": [
    {
     "data": {
      "text/plain": [
       "title    1\n",
       "year     0\n",
       "dtype: int64"
      ]
     },
     "execution_count": 24,
     "metadata": {},
     "output_type": "execute_result"
    }
   ],
   "source": [
    "titles.isnull().sum()"
   ]
  },
  {
   "cell_type": "code",
   "execution_count": 28,
   "metadata": {},
   "outputs": [],
   "source": [
    "titles = titles.dropna()"
   ]
  },
  {
   "cell_type": "code",
   "execution_count": 30,
   "metadata": {},
   "outputs": [
    {
     "name": "stdout",
     "output_type": "stream",
     "text": [
      "No of movies contains Hamlet - 54\n"
     ]
    }
   ],
   "source": [
    "print(\"No of movies contains Hamlet -\",len(titles[titles['title'].str.contains('Hamlet')]))"
   ]
  },
  {
   "cell_type": "markdown",
   "metadata": {
    "collapsed": true
   },
   "source": [
    "### How many movies are titled \"North by Northwest\"?"
   ]
  },
  {
   "cell_type": "code",
   "execution_count": 35,
   "metadata": {},
   "outputs": [
    {
     "name": "stdout",
     "output_type": "stream",
     "text": [
      "No of movies are titled 'North by Northwest' - 1\n"
     ]
    }
   ],
   "source": [
    "print(\"No of movies are titled 'North by Northwest' -\",len(titles[titles['title'].str.fullmatch('North by Northwest')]))"
   ]
  },
  {
   "cell_type": "markdown",
   "metadata": {
    "collapsed": true
   },
   "source": [
    "### When was the first movie titled \"Hamlet\" made?"
   ]
  },
  {
   "cell_type": "code",
   "execution_count": 79,
   "metadata": {},
   "outputs": [],
   "source": [
    "earlist_hamlet = titles[titles['title']==  \"Hamlet\"]\n",
    "first_hamlet_year = earlist_hamlet['year'].min()"
   ]
  },
  {
   "cell_type": "code",
   "execution_count": 80,
   "metadata": {},
   "outputs": [
    {
     "name": "stdout",
     "output_type": "stream",
     "text": [
      "the first movie titled 'Hamlet' was made in - 1910\n"
     ]
    }
   ],
   "source": [
    "print(\"the first movie titled 'Hamlet' was made in -\", first_hamlet_year)"
   ]
  },
  {
   "cell_type": "markdown",
   "metadata": {
    "collapsed": true
   },
   "source": [
    "### List all of the \"Treasure Island\" movies from earliest to most recent."
   ]
  },
  {
   "cell_type": "code",
   "execution_count": 55,
   "metadata": {},
   "outputs": [],
   "source": [
    "tr = titles[titles['title'] == \"Treasure Island\"]"
   ]
  },
  {
   "cell_type": "code",
   "execution_count": 56,
   "metadata": {
    "collapsed": true
   },
   "outputs": [
    {
     "data": {
      "text/html": [
       "<div>\n",
       "<style scoped>\n",
       "    .dataframe tbody tr th:only-of-type {\n",
       "        vertical-align: middle;\n",
       "    }\n",
       "\n",
       "    .dataframe tbody tr th {\n",
       "        vertical-align: top;\n",
       "    }\n",
       "\n",
       "    .dataframe thead th {\n",
       "        text-align: right;\n",
       "    }\n",
       "</style>\n",
       "<table border=\"1\" class=\"dataframe\">\n",
       "  <thead>\n",
       "    <tr style=\"text-align: right;\">\n",
       "      <th></th>\n",
       "      <th>title</th>\n",
       "      <th>year</th>\n",
       "    </tr>\n",
       "  </thead>\n",
       "  <tbody>\n",
       "    <tr>\n",
       "      <th>204540</th>\n",
       "      <td>Treasure Island</td>\n",
       "      <td>1918</td>\n",
       "    </tr>\n",
       "    <tr>\n",
       "      <th>50896</th>\n",
       "      <td>Treasure Island</td>\n",
       "      <td>1920</td>\n",
       "    </tr>\n",
       "    <tr>\n",
       "      <th>189691</th>\n",
       "      <td>Treasure Island</td>\n",
       "      <td>1934</td>\n",
       "    </tr>\n",
       "    <tr>\n",
       "      <th>96259</th>\n",
       "      <td>Treasure Island</td>\n",
       "      <td>1950</td>\n",
       "    </tr>\n",
       "    <tr>\n",
       "      <th>59186</th>\n",
       "      <td>Treasure Island</td>\n",
       "      <td>1972</td>\n",
       "    </tr>\n",
       "    <tr>\n",
       "      <th>110576</th>\n",
       "      <td>Treasure Island</td>\n",
       "      <td>1973</td>\n",
       "    </tr>\n",
       "    <tr>\n",
       "      <th>203909</th>\n",
       "      <td>Treasure Island</td>\n",
       "      <td>1985</td>\n",
       "    </tr>\n",
       "    <tr>\n",
       "      <th>178072</th>\n",
       "      <td>Treasure Island</td>\n",
       "      <td>1999</td>\n",
       "    </tr>\n",
       "  </tbody>\n",
       "</table>\n",
       "</div>"
      ],
      "text/plain": [
       "                  title  year\n",
       "204540  Treasure Island  1918\n",
       "50896   Treasure Island  1920\n",
       "189691  Treasure Island  1934\n",
       "96259   Treasure Island  1950\n",
       "59186   Treasure Island  1972\n",
       "110576  Treasure Island  1973\n",
       "203909  Treasure Island  1985\n",
       "178072  Treasure Island  1999"
      ]
     },
     "execution_count": 56,
     "metadata": {},
     "output_type": "execute_result"
    }
   ],
   "source": [
    "tr.sort_values('year')"
   ]
  },
  {
   "cell_type": "markdown",
   "metadata": {
    "collapsed": true
   },
   "source": [
    "### How many movies were made in the year 1950?"
   ]
  },
  {
   "cell_type": "code",
   "execution_count": 65,
   "metadata": {},
   "outputs": [],
   "source": [
    "y_1950 = titles[titles['year'] == 1950]"
   ]
  },
  {
   "cell_type": "code",
   "execution_count": 64,
   "metadata": {},
   "outputs": [
    {
     "name": "stdout",
     "output_type": "stream",
     "text": [
      "There are total 1093 movies released in the year 1950\n"
     ]
    }
   ],
   "source": [
    "print(\"There are total\",y_1950['title'].nunique(),\"movies released in the year 1950\")"
   ]
  },
  {
   "cell_type": "markdown",
   "metadata": {
    "collapsed": true
   },
   "source": [
    "### How many movies were made in the year 1960?"
   ]
  },
  {
   "cell_type": "code",
   "execution_count": 66,
   "metadata": {},
   "outputs": [],
   "source": [
    "y_1960 = titles[titles['year'] == 1960]"
   ]
  },
  {
   "cell_type": "code",
   "execution_count": 68,
   "metadata": {},
   "outputs": [
    {
     "name": "stdout",
     "output_type": "stream",
     "text": [
      "There are total 1496 movies released in the year 1960\n"
     ]
    }
   ],
   "source": [
    "print(\"There are total\",y_1960['title'].nunique(),\"movies released in the year 1960\")"
   ]
  },
  {
   "cell_type": "markdown",
   "metadata": {
    "collapsed": true
   },
   "source": [
    "### How many movies were made from 1950 through 1959?"
   ]
  },
  {
   "cell_type": "code",
   "execution_count": 75,
   "metadata": {},
   "outputs": [],
   "source": [
    "filttered = titles[(titles['year'] >= 1950) & (titles['year']<= 1959)]\n",
    "no_movies = filttered.shape[0]"
   ]
  },
  {
   "cell_type": "code",
   "execution_count": 76,
   "metadata": {},
   "outputs": [
    {
     "name": "stdout",
     "output_type": "stream",
     "text": [
      "Number of movies made from 1950 through 1959: 12656\n"
     ]
    }
   ],
   "source": [
    "print(\"Number of movies made from 1950 through 1959:\",no_movies)"
   ]
  },
  {
   "cell_type": "markdown",
   "metadata": {
    "collapsed": true
   },
   "source": [
    "### In what years has a movie titled \"Batman\" been released?"
   ]
  },
  {
   "cell_type": "code",
   "execution_count": 91,
   "metadata": {},
   "outputs": [
    {
     "name": "stdout",
     "output_type": "stream",
     "text": [
      "Movies titled 'Batman' have been released in the following years: [1989, 1943]\n"
     ]
    }
   ],
   "source": [
    "Bat = titles[titles['title'] == 'Batman']\n",
    "if not Bat.empty:\n",
    "    batman_years = Bat['year'].tolist()\n",
    "    print(\"Movies titled 'Batman' have been released in the following years:\", batman_years)\n",
    "else:\n",
    "    print(\"No movies titled 'Batman' found in the dataset.\")\n"
   ]
  },
  {
   "cell_type": "markdown",
   "metadata": {
    "collapsed": true
   },
   "source": [
    "### How many roles were there in the movie \"Inception\"?"
   ]
  },
  {
   "cell_type": "code",
   "execution_count": 92,
   "metadata": {},
   "outputs": [],
   "source": [
    "roles_inception = cast[cast['title']== 'Inception']\n",
    "no_of_roles = roles_inception.shape[0]"
   ]
  },
  {
   "cell_type": "code",
   "execution_count": 95,
   "metadata": {},
   "outputs": [
    {
     "name": "stdout",
     "output_type": "stream",
     "text": [
      "There are 77 roles in Inception Movie\n"
     ]
    }
   ],
   "source": [
    "print(\"There are\",no_of_roles,\"roles in Inception Movie\")"
   ]
  },
  {
   "cell_type": "markdown",
   "metadata": {
    "collapsed": true
   },
   "source": [
    "### How many roles in the movie \"Inception\" are NOT ranked by an \"n\" value?"
   ]
  },
  {
   "cell_type": "code",
   "execution_count": 99,
   "metadata": {},
   "outputs": [],
   "source": [
    "roles_inception = cast[cast['title']== 'Inception']\n",
    "unranked_roles = roles_inception[roles_inception['n'].isna()]\n",
    "no_of_unranked_roles = unranked_roles.shape[0]"
   ]
  },
  {
   "cell_type": "code",
   "execution_count": 100,
   "metadata": {},
   "outputs": [
    {
     "name": "stdout",
     "output_type": "stream",
     "text": [
      "There are 26 unranked roles in Inception Movie\n"
     ]
    }
   ],
   "source": [
    "print(\"There are\",no_of_unranked_roles,\"unranked roles in Inception Movie\")"
   ]
  },
  {
   "cell_type": "markdown",
   "metadata": {
    "collapsed": true
   },
   "source": [
    "### But how many roles in the movie \"Inception\" did receive an \"n\" value?"
   ]
  },
  {
   "cell_type": "code",
   "execution_count": 101,
   "metadata": {},
   "outputs": [],
   "source": [
    "n_value_roles = no_of_roles - no_of_unranked_roles"
   ]
  },
  {
   "cell_type": "code",
   "execution_count": 103,
   "metadata": {},
   "outputs": [
    {
     "name": "stdout",
     "output_type": "stream",
     "text": [
      "Total 51 nos of roles in Inception movie recieved 'n' value\n"
     ]
    }
   ],
   "source": [
    "print(\"Total\",n_value_roles,\"nos of roles in Inception movie recieved 'n' value\")"
   ]
  },
  {
   "cell_type": "markdown",
   "metadata": {
    "collapsed": true
   },
   "source": [
    "### Display the cast of \"North by Northwest\" in their correct \"n\"-value order, ignoring roles that did not earn a numeric \"n\" value."
   ]
  },
  {
   "cell_type": "code",
   "execution_count": 107,
   "metadata": {},
   "outputs": [],
   "source": [
    "n_cast = cast[(cast['title']== 'North by Northwest') & (cast['n'].notna())]\n",
    "sorted_by_n = n_cast.sort_values('n')"
   ]
  },
  {
   "cell_type": "code",
   "execution_count": 110,
   "metadata": {},
   "outputs": [
    {
     "name": "stdout",
     "output_type": "stream",
     "text": [
      "the cast of 'North by Northwest' in their correct 'n'-value order\n",
      "                         name                    character     n\n",
      "840374             Cary Grant           Roger O. Thornhill   1.0\n",
      "3361396       Eva Marie Saint                  Eve Kendall   2.0\n",
      "1404704           James Mason              Phillip Vandamm   3.0\n",
      "3024085   Jessie Royce Landis              Clara Thornhill   4.0\n",
      "343701         Leo G. Carroll                The Professor   5.0\n",
      "2923056  Josephine Hutchinson                Mrs. Townsend   6.0\n",
      "1634552           Philip Ober              Lester Townsend   7.0\n",
      "1229083         Martin Landau                      Leonard   8.0\n",
      "2357939         Adam Williams                     Valerian   9.0\n",
      "1746383          Edward Platt              Victor Larrabee  10.0\n",
      "642085      Robert Ellenstein                        Licht  11.0\n",
      "2212083          Les Tremayne                   Auctioneer  12.0\n",
      "447893        Philip Coolidge                    Dr. Cross  13.0\n",
      "1454363         Patrick McVey               Sergeant Flamm  14.0\n",
      "198496           Edward Binns               Captain Junket  15.0\n",
      "1334726             Ken Lynch  Charley - Chicago Policeman  16.0\n"
     ]
    }
   ],
   "source": [
    "print(\"the cast of 'North by Northwest' in their correct 'n'-value order\")\n",
    "print(sorted_by_n[['name','character','n']])"
   ]
  },
  {
   "cell_type": "markdown",
   "metadata": {
    "collapsed": true
   },
   "source": [
    "### Display the entire cast, in \"n\"-order, of the 1972 film \"Sleuth\"."
   ]
  },
  {
   "cell_type": "code",
   "execution_count": 115,
   "metadata": {},
   "outputs": [],
   "source": [
    "sleuth_cast = cast[(cast['title']== 'Sleuth') & (cast['year']== 1972)]"
   ]
  },
  {
   "cell_type": "code",
   "execution_count": 116,
   "metadata": {},
   "outputs": [
    {
     "name": "stdout",
     "output_type": "stream",
     "text": [
      "the cast of 'Sleuth' \n",
      "                       name                   character\n",
      "314691        Michael Caine                 Milo Tindle\n",
      "360365       Alec Cawthorne           Inspector Doppler\n",
      "1396572        Teddy Martin      Police Constable Higgs\n",
      "1412647  John (II) Matthews  Detective Sergeant Tarrant\n",
      "1644328    Laurence Olivier                 Andrew Wyke\n",
      "2619278  Eve (III) Channing             Marguerite Wyke\n"
     ]
    }
   ],
   "source": [
    "print(\"the cast of 'Sleuth' \")\n",
    "print(sleuth_cast[['name','character']])"
   ]
  },
  {
   "cell_type": "markdown",
   "metadata": {
    "collapsed": true
   },
   "source": [
    "### Now display the entire cast, in \"n\"-order, of the 2007 version of \"Sleuth\"."
   ]
  },
  {
   "cell_type": "code",
   "execution_count": 118,
   "metadata": {},
   "outputs": [],
   "source": [
    "sleuth_cast = cast[(cast['title']== 'Sleuth') & (cast['year']== 2007)]"
   ]
  },
  {
   "cell_type": "code",
   "execution_count": 119,
   "metadata": {},
   "outputs": [
    {
     "name": "stdout",
     "output_type": "stream",
     "text": [
      "the cast of 'Sleuth' \n",
      "                        name          character    n\n",
      "250297       Kenneth Branagh  Other Man on T.V.  NaN\n",
      "314692         Michael Caine             Andrew  1.0\n",
      "360366   Alec (II) Cawthorne  Inspector Doppler  NaN\n",
      "1246855             Jude Law               Milo  2.0\n",
      "1741124        Harold Pinter        Man on T.V.  3.0\n",
      "2619277    Eve (II) Channing    Marguerite Wyke  NaN\n",
      "3223502    Carmel O'Sullivan             Maggie  NaN\n"
     ]
    }
   ],
   "source": [
    "print(\"the cast of 'Sleuth' \")\n",
    "print(sleuth_cast[['name','character','n']])"
   ]
  },
  {
   "cell_type": "markdown",
   "metadata": {
    "collapsed": true
   },
   "source": [
    "### How many roles were credited in the silent 1921 version of Hamlet?"
   ]
  },
  {
   "cell_type": "code",
   "execution_count": 129,
   "metadata": {},
   "outputs": [],
   "source": [
    "hamlet_1921_role = cast[(cast['title'] == 'Hamlet') & (cast['year']== 1921)]\n",
    "num_1921_hamlet_role = hamlet_1921_role.shape[0]"
   ]
  },
  {
   "cell_type": "code",
   "execution_count": 130,
   "metadata": {},
   "outputs": [
    {
     "name": "stdout",
     "output_type": "stream",
     "text": [
      "9 Roles were credite in silent 1921 version of 'Hamlet' \n"
     ]
    }
   ],
   "source": [
    "print(num_1921_hamlet_role,\"Roles were credite in silent 1921 version of 'Hamlet' \")"
   ]
  },
  {
   "cell_type": "markdown",
   "metadata": {
    "collapsed": true
   },
   "source": [
    "### How many roles were credited in Branagh’s 1996 Hamlet?"
   ]
  },
  {
   "cell_type": "code",
   "execution_count": 132,
   "metadata": {},
   "outputs": [],
   "source": [
    "hamlet_1996_role = cast[(cast['title']== 'Hamlet')& cast['year']==1996]\n",
    "num_1996_hamlet_role = hamlet_1996_role.shape[1]\n"
   ]
  },
  {
   "cell_type": "code",
   "execution_count": 133,
   "metadata": {},
   "outputs": [
    {
     "name": "stdout",
     "output_type": "stream",
     "text": [
      "6 Roles were credite in silent 1921 version of 'Hamlet' \n"
     ]
    }
   ],
   "source": [
    "print(num_1996_hamlet_role,\"Roles were credite in silent 1921 version of 'Hamlet' \")"
   ]
  },
  {
   "cell_type": "markdown",
   "metadata": {
    "collapsed": true
   },
   "source": [
    "### How many \"Hamlet\" roles have been listed in all film credits through history?"
   ]
  },
  {
   "cell_type": "code",
   "execution_count": 137,
   "metadata": {},
   "outputs": [],
   "source": [
    "hamlet_role = cast[cast['title']== 'Hamlet']\n",
    "num_hamlet_role = hamlet_role.shape[0]\n"
   ]
  },
  {
   "cell_type": "code",
   "execution_count": 138,
   "metadata": {},
   "outputs": [
    {
     "name": "stdout",
     "output_type": "stream",
     "text": [
      "The number of 'Hamlet' roles listed in all film credits through history is, 313\n",
      "None\n"
     ]
    }
   ],
   "source": [
    "print(print(\"The number of 'Hamlet' roles listed in all film credits through history is,\",num_hamlet_role))"
   ]
  },
  {
   "cell_type": "markdown",
   "metadata": {
    "collapsed": true
   },
   "source": [
    "### How many people have played an \"Ophelia\"?"
   ]
  },
  {
   "cell_type": "code",
   "execution_count": 139,
   "metadata": {},
   "outputs": [],
   "source": [
    "ophelia_roles = cast[(cast['title'] == 'Hamlet') & (cast['character'] == 'Ophelia')]\n",
    "num_actors_ophelia = ophelia_roles['name'].nunique()\n"
   ]
  },
  {
   "cell_type": "code",
   "execution_count": 141,
   "metadata": {},
   "outputs": [
    {
     "name": "stdout",
     "output_type": "stream",
     "text": [
      "The number of different people who have played 'Ophelia' in movies titled 'Hamlet' is: 15\n"
     ]
    }
   ],
   "source": [
    "print(\"The number of different people who have played 'Ophelia' in movies titled 'Hamlet' is:\",num_actors_ophelia)\n"
   ]
  },
  {
   "cell_type": "markdown",
   "metadata": {
    "collapsed": true
   },
   "source": [
    "### How many people have played a role called \"The Dude\"?"
   ]
  },
  {
   "cell_type": "code",
   "execution_count": 144,
   "metadata": {},
   "outputs": [],
   "source": [
    "the_dude_roles = cast[(cast['character'] == 'The Dude')]\n",
    "num_actors_the_dude = the_dude_roles['name'].nunique()\n"
   ]
  },
  {
   "cell_type": "code",
   "execution_count": 146,
   "metadata": {},
   "outputs": [
    {
     "name": "stdout",
     "output_type": "stream",
     "text": [
      "The number of different people who have played 'The Dude' in movies titled 'Hamlet' is: 18\n"
     ]
    }
   ],
   "source": [
    "print(\"The number of different people who have played 'The Dude' in movies titled 'Hamlet' is:\",num_actors_the_dude)"
   ]
  },
  {
   "cell_type": "markdown",
   "metadata": {
    "collapsed": true
   },
   "source": [
    "### How many people have played a role called \"The Stranger\"?"
   ]
  },
  {
   "cell_type": "code",
   "execution_count": 147,
   "metadata": {},
   "outputs": [],
   "source": [
    "the_stranger_roles = cast[cast['character']== 'The Stranger']\n",
    "num_actore_the_stranger = the_stranger_roles['name'].nunique()"
   ]
  },
  {
   "cell_type": "code",
   "execution_count": 148,
   "metadata": {},
   "outputs": [
    {
     "name": "stdout",
     "output_type": "stream",
     "text": [
      "The number of different people who have played 'The Stranger' in movies titled 'Hamlet' is: 197\n"
     ]
    }
   ],
   "source": [
    "print(\"The number of different people who have played 'The Stranger' in movies titled 'Hamlet' is:\",num_actore_the_stranger)"
   ]
  },
  {
   "cell_type": "markdown",
   "metadata": {
    "collapsed": true
   },
   "source": [
    "### How many roles has Sidney Poitier played throughout his career?"
   ]
  },
  {
   "cell_type": "code",
   "execution_count": 154,
   "metadata": {},
   "outputs": [],
   "source": [
    "roles_sidney = cast[cast['name']== 'Sidney Poitier']\n",
    "num_of_roles_sidney_poitier = roles_sidney.shape[0]"
   ]
  },
  {
   "cell_type": "code",
   "execution_count": 155,
   "metadata": {},
   "outputs": [
    {
     "name": "stdout",
     "output_type": "stream",
     "text": [
      "43 Roles has Sidney Poitier played throughout his career\n"
     ]
    }
   ],
   "source": [
    "print(num_of_roles_sidney_poitier, \"Roles has Sidney Poitier played throughout his career\")"
   ]
  },
  {
   "cell_type": "markdown",
   "metadata": {
    "collapsed": true
   },
   "source": [
    "### How many roles has Judi Dench played?"
   ]
  },
  {
   "cell_type": "code",
   "execution_count": 156,
   "metadata": {},
   "outputs": [],
   "source": [
    "roles_judi_dench = cast[cast['name']== 'Judi Dench']\n",
    "num_of_roles_judi_dench = roles_judi_dench.shape[0]"
   ]
  },
  {
   "cell_type": "code",
   "execution_count": 157,
   "metadata": {},
   "outputs": [
    {
     "name": "stdout",
     "output_type": "stream",
     "text": [
      "55 Roles has Judi Dench played throughout his career\n"
     ]
    }
   ],
   "source": [
    "print(num_of_roles_judi_dench, \"Roles has Judi Dench played throughout his career\")"
   ]
  },
  {
   "cell_type": "markdown",
   "metadata": {
    "collapsed": true
   },
   "source": [
    "### List the supporting roles (having n=2) played by Cary Grant in the 1940s, in order by year."
   ]
  },
  {
   "cell_type": "code",
   "execution_count": 7,
   "metadata": {},
   "outputs": [],
   "source": [
    "supporting_roles_in_40s = cast[(cast['name']== 'Cary Grant') &(cast['n']==2) & (cast['year'] >=1940)& (cast['year'] <1950)]\n",
    "supporting_roles_in_40s = supporting_roles_in_40s.sort_values('year')"
   ]
  },
  {
   "cell_type": "code",
   "execution_count": 8,
   "metadata": {},
   "outputs": [
    {
     "name": "stdout",
     "output_type": "stream",
     "text": [
      "Supporting roles (n=2) played by Cary Grant in the 1940s, in order by year:\n",
      "                   title  year    character\n",
      "840371  My Favorite Wife  1940         Nick\n",
      "840381    Penny Serenade  1941  Roger Adams\n"
     ]
    }
   ],
   "source": [
    "print(\"Supporting roles (n=2) played by Cary Grant in the 1940s, in order by year:\")\n",
    "print(supporting_roles_in_40s[['title','year','character']])"
   ]
  },
  {
   "cell_type": "markdown",
   "metadata": {
    "collapsed": true
   },
   "source": [
    "### List the leading roles that Cary Grant played in the 1940s in order by year."
   ]
  },
  {
   "cell_type": "code",
   "execution_count": 10,
   "metadata": {},
   "outputs": [],
   "source": [
    "leading_roles_in_40s = cast[(cast['name']== 'Cary Grant') &(cast['n']==1) & (cast['year'] >=1940)& (cast['year'] <1950)]\n",
    "leading_roles_in_40s = leading_roles_in_40s.sort_values('year')"
   ]
  },
  {
   "cell_type": "code",
   "execution_count": 11,
   "metadata": {},
   "outputs": [
    {
     "name": "stdout",
     "output_type": "stream",
     "text": [
      "Leading roles (n=1) played by Cary Grant in the 1940s, in order by year:\n",
      "                                       title  year              character\n",
      "840397               The Howards of Virginia  1940            Matt Howard\n",
      "840353                       His Girl Friday  1940           Walter Burns\n",
      "840399                The Philadelphia Story  1940     C. K. Dexter Haven\n",
      "840386                             Suspicion  1941                Johnnie\n",
      "840401                  The Talk of the Town  1942           Leopold Dilg\n",
      "840377                 Once Upon a Honeymoon  1942  Patrick 'Pat' O'Toole\n",
      "840344                     Destination Tokyo  1943          Capt. Cassidy\n",
      "840369                             Mr. Lucky  1943              Joe Adams\n",
      "840370                             Mr. Lucky  1943        Joe Bascopolous\n",
      "840378                      Once Upon a Time  1944            Jerry Flynn\n",
      "840336                  Arsenic and Old Lace  1944      Mortimer Brewster\n",
      "840373             None But the Lonely Heart  1944             Ernie Mott\n",
      "840372                         Night and Day  1946            Cole Porter\n",
      "840375                             Notorious  1946                 Devlin\n",
      "840393      The Bachelor and the Bobby-Soxer  1947            Dick Nugent\n",
      "840394                     The Bishop's Wife  1947                 Dudley\n",
      "840368  Mr. Blandings Builds His Dream House  1948          Jim Blandings\n",
      "840348          Every Girl Should Be Married  1948      Dr. Madison Brown\n",
      "840357                I Was a Male War Bride  1949  Captain Henri Rochard\n"
     ]
    }
   ],
   "source": [
    "print(\"Leading roles (n=1) played by Cary Grant in the 1940s, in order by year:\")\n",
    "print(leading_roles_in_40s[['title','year','character']])"
   ]
  },
  {
   "cell_type": "markdown",
   "metadata": {
    "collapsed": true
   },
   "source": [
    "### How many roles were available for actors in the 1950s?"
   ]
  },
  {
   "cell_type": "code",
   "execution_count": 13,
   "metadata": {},
   "outputs": [],
   "source": [
    "no_of_roles = cast[cast['year'] >=1950 & (cast['year'] <1960)]\n",
    "no_of_roles = no_of_roles.shape[0]"
   ]
  },
  {
   "cell_type": "code",
   "execution_count": 14,
   "metadata": {},
   "outputs": [
    {
     "name": "stdout",
     "output_type": "stream",
     "text": [
      "The number of roles were available for actors in the 1950s: 3611212\n"
     ]
    }
   ],
   "source": [
    "print(\"The number of roles were available for actors in the 1950s:\",no_of_roles)"
   ]
  },
  {
   "cell_type": "markdown",
   "metadata": {
    "collapsed": true
   },
   "source": [
    "### How many roles were available for actresses in the 1950s?"
   ]
  },
  {
   "cell_type": "code",
   "execution_count": 25,
   "metadata": {},
   "outputs": [],
   "source": [
    "roles_actresses_1950s = cast[(cast['year'] >= 1950) & (cast['year'] < 1960)]\n",
    "\n",
    "roles_actresses_1950s = roles_actresses_1950s.shape[0]"
   ]
  },
  {
   "cell_type": "code",
   "execution_count": 26,
   "metadata": {},
   "outputs": [
    {
     "name": "stdout",
     "output_type": "stream",
     "text": [
      "The number of roles were available for actresses in the 1950s: 210986\n"
     ]
    }
   ],
   "source": [
    "print(\"The number of roles were available for actresses in the 1950s:\",roles_actresses_1950s) ### not sure about how to filter data according to gender where gender cilumn is not there"
   ]
  },
  {
   "cell_type": "markdown",
   "metadata": {
    "collapsed": true
   },
   "source": [
    "### How many leading roles (n=1) were available from the beginning of film history through 1980?"
   ]
  },
  {
   "cell_type": "code",
   "execution_count": 29,
   "metadata": {},
   "outputs": [],
   "source": [
    "no_of_roles = cast[cast['year']  & (cast['n']==1) & (cast['year'] < 1960)]\n",
    "no_of_roles = no_of_roles.shape[0]"
   ]
  },
  {
   "cell_type": "code",
   "execution_count": 31,
   "metadata": {},
   "outputs": [
    {
     "name": "stdout",
     "output_type": "stream",
     "text": [
      "leading roles (n=1) were available from the beginning of film history through 1980 were: 19612\n"
     ]
    }
   ],
   "source": [
    "print(\"leading roles (n=1) were available from the beginning of film history through 1980 were:\",no_of_roles)"
   ]
  },
  {
   "cell_type": "markdown",
   "metadata": {
    "collapsed": true
   },
   "source": [
    "### How many non-leading roles were available through from the beginning of film history through 1980?"
   ]
  },
  {
   "cell_type": "code",
   "execution_count": 32,
   "metadata": {},
   "outputs": [],
   "source": [
    "no_of_roles = cast[cast['year']  & (cast['n']!=1) & (cast['year'] < 1960)]\n",
    "no_of_roles = no_of_roles.shape[0]"
   ]
  },
  {
   "cell_type": "code",
   "execution_count": 33,
   "metadata": {},
   "outputs": [
    {
     "name": "stdout",
     "output_type": "stream",
     "text": [
      "How many non-leading roles were available through from the beginning of film history through 1980 were: 351887\n"
     ]
    }
   ],
   "source": [
    "print(\"How many non-leading roles were available through from the beginning of film history through 1980 were:\",no_of_roles)"
   ]
  },
  {
   "cell_type": "markdown",
   "metadata": {
    "collapsed": true
   },
   "source": [
    "### How many roles through 1980 were minor enough that they did not warrant a numeric \"n\" rank?"
   ]
  },
  {
   "cell_type": "code",
   "execution_count": 41,
   "metadata": {},
   "outputs": [],
   "source": [
    "no_of_roles_minors_80s = cast[(cast['year'] <=1980) & (cast['n'].isna())]\n",
    "no_of_roles_minors_80s = no_of_roles_minors_80s.shape[0]"
   ]
  },
  {
   "cell_type": "code",
   "execution_count": 42,
   "metadata": {},
   "outputs": [
    {
     "name": "stdout",
     "output_type": "stream",
     "text": [
      "The number of minor roles through 1980 that did not warrant a numeric 'n' rank is: 438086\n"
     ]
    }
   ],
   "source": [
    "print(\"The number of minor roles through 1980 that did not warrant a numeric 'n' rank is:\",no_of_roles_minors_80s)"
   ]
  }
 ],
 "metadata": {
  "kernelspec": {
   "display_name": "Python 3 (ipykernel)",
   "language": "python",
   "name": "python3"
  },
  "language_info": {
   "codemirror_mode": {
    "name": "ipython",
    "version": 3
   },
   "file_extension": ".py",
   "mimetype": "text/x-python",
   "name": "python",
   "nbconvert_exporter": "python",
   "pygments_lexer": "ipython3",
   "version": "3.11.5"
  }
 },
 "nbformat": 4,
 "nbformat_minor": 1
}
